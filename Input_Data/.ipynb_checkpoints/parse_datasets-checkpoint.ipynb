{
 "cells": [
  {
   "cell_type": "code",
   "execution_count": 5,
   "metadata": {},
   "outputs": [],
   "source": [
    "# -*- coding: utf-8 -*-\n",
    "\"\"\"\n",
    "Created on Fri Nov 02 10:39:27 2018\n",
    "\n",
    "@author: Shawnzy\n",
    "\"\"\"\n",
    "\n",
    "import pandas as pd\n",
    "import numpy as np\n",
    "from sklearn.datasets import load_digits\n",
    "import os \n",
    "import sklearn.model_selection as ms\n",
    "\n",
    "#Create Folders\n",
    "for d in ['BASE','RCA','PCA','ICA','LDA']:\n",
    "    n = './{}/'.format(d)\n",
    "    if not os.path.exists(n):\n",
    "        os.makedirs(n)\n",
    "\n",
    "OUT = './BASE/'"
   ]
  },
  {
   "cell_type": "code",
   "execution_count": 6,
   "metadata": {},
   "outputs": [],
   "source": [
    "#Parse Madelon dataset\n",
    "mad_raw = pd.read_csv('./madelon_data.csv')\n",
    "madX = mad_raw.drop(['Class'], axis=1)\n",
    "madY = pd.DataFrame(mad_raw.Class)\n",
    "\n",
    "madelon_trgX, madelon_tstX, madelon_trgY, madelon_tstY = ms.train_test_split(madX, madY, test_size=0.3, random_state=0,stratify=madY) \n",
    "\n",
    "mad_trg = pd.concat([madelon_trgX,madelon_trgY],1)\n",
    "mad_trg.to_hdf(OUT+'datasets.hdf','madelon_train',complib='blosc',complevel=9)\n",
    "\n",
    "mad_tst = pd.concat([madelon_tstX,madelon_tstY],1)\n",
    "mad_tst.to_hdf(OUT+'datasets.hdf','madelon_test',complib='blosc',complevel=9)"
   ]
  },
  {
   "cell_type": "code",
   "execution_count": 7,
   "metadata": {},
   "outputs": [],
   "source": [
    "#Parse Wisconsin Breast Cancer dataset\n",
    "from sklearn.datasets import load_breast_cancer\n",
    "cancer = load_breast_cancer()\n",
    "canX = pd.DataFrame(cancer.data, columns=cancer.feature_names)\n",
    "canY = pd.DataFrame(cancer.target, columns=['diagnosis'])\n",
    "\n",
    "cancer_trgX, cancer_tstX, cancer_trgY, cancer_tstY = ms.train_test_split(canX, canY, test_size=0.3, random_state=0,stratify=canY) \n",
    "\n",
    "can_trg = pd.concat([cancer_trgX,cancer_trgY],1)\n",
    "can_trg.to_hdf(OUT+'datasets.hdf','cancer_train',complib='blosc',complevel=9)\n",
    "\n",
    "can_tst = pd.concat([cancer_tstX,cancer_tstY],1)\n",
    "can_tst.to_hdf(OUT+'datasets.hdf','cancer_test',complib='blosc',complevel=9)"
   ]
  },
  {
   "cell_type": "code",
   "execution_count": null,
   "metadata": {},
   "outputs": [],
   "source": []
  }
 ],
 "metadata": {
  "kernelspec": {
   "display_name": "Python 3",
   "language": "python",
   "name": "python3"
  },
  "language_info": {
   "codemirror_mode": {
    "name": "ipython",
    "version": 3
   },
   "file_extension": ".py",
   "mimetype": "text/x-python",
   "name": "python",
   "nbconvert_exporter": "python",
   "pygments_lexer": "ipython3",
   "version": "3.6.5"
  }
 },
 "nbformat": 4,
 "nbformat_minor": 2
}
