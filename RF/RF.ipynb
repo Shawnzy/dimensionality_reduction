{
 "cells": [
  {
   "cell_type": "code",
   "execution_count": 2,
   "metadata": {},
   "outputs": [],
   "source": [
    "# -*- coding: utf-8 -*-\n",
    "\"\"\"\n",
    "Created on Fri Nov 02 15:51:37 2018\n",
    "\n",
    "@author: Shawnzy\n",
    "\"\"\"\n",
    "import warnings\n",
    "warnings.filterwarnings('ignore')\n",
    "#%% Imports\n",
    "import pandas as pd\n",
    "import numpy as np\n",
    "from collections import defaultdict\n",
    "from sklearn.preprocessing import StandardScaler\n",
    "from sklearn.ensemble import RandomForestClassifier\n",
    "from sklearn.feature_selection import SelectFromModel\n",
    "\n",
    "out = './'\n",
    "\n",
    "np.random.seed(0)\n",
    "cancer = pd.read_hdf('../Input_Data/datasets.hdf','cancer')\n",
    "cancerX = cancer.drop('diagnosis',1).copy().values\n",
    "cancerY = cancer['diagnosis'].copy().values\n",
    "\n",
    "\n",
    "madelon = pd.read_hdf('../Input_Data/datasets.hdf','madelon')        \n",
    "madelonX = madelon.drop('Class',1).copy().values\n",
    "madelonY = madelon['Class'].copy().values\n",
    "\n",
    "# Scale Attributes (Very important for clustering)\n",
    "madelonX = StandardScaler().fit_transform(madelonX) \n",
    "cancerX= StandardScaler().fit_transform(cancerX)\n",
    "\n"
   ]
  },
  {
   "cell_type": "code",
   "execution_count": 3,
   "metadata": {},
   "outputs": [],
   "source": [
    "import matplotlib.pyplot as plt \n",
    "\n",
    "rfc = RandomForestClassifier(n_estimators=100,class_weight='balanced',random_state=5)\n",
    "fs_madelon = rfc.fit(madelonX,madelonY).feature_importances_ \n",
    "tmp = pd.Series(np.sort(fs_madelon)[::-1])\n",
    "tmp.to_hdf(out+'results.hdf','madelon_rfc',complib='blosc',complevel=9)\n",
    "\n",
    "fig = plt.figure()\n",
    "ax = tmp[:50].plot(kind='bar', title=\"Madelon - RF - Feature Importance vs Dimensions\")\n",
    "ax.set(xlabel=\"Feature\", ylabel=\"Feature Importance\")\n",
    "plt.savefig(out+'Plots/madelon_rf.png')\n",
    "\n",
    "\n",
    "fs_cancer = rfc.fit(cancerX,cancerY).feature_importances_ \n",
    "tmp = pd.Series(np.sort(fs_cancer)[::-1])\n",
    "tmp.to_hdf(out+'results.hdf','cancer_rfc',complib='blosc',complevel=9)\n",
    "\n",
    "fig = plt.figure()\n",
    "ax = tmp[:30].plot(kind='bar', title=\"Cancer - RF - Feature Importance vs Dimensions\")\n",
    "ax.set(xlabel=\"Feature\", ylabel=\"Feature Importance\")\n",
    "plt.savefig(out+'Plots/cancer_rf.png')"
   ]
  },
  {
   "cell_type": "code",
   "execution_count": 4,
   "metadata": {},
   "outputs": [],
   "source": [
    "dimensions = range(2,400,2)\n",
    "for dim in dimensions:\n",
    "    clf = RandomForestClassifier(n_estimators=100,class_weight='balanced',random_state=5)\n",
    "    clf = clf.fit(madelonX, madelonY)\n",
    "    model = SelectFromModel(clf, prefit=True, max_features=dim)\n",
    "    madelonX_new = model.transform(madelonX)\n",
    "    new_madelon = pd.pandas.DataFrame(np.hstack((madelonX_new,madelonY.reshape(len(madelonX),1))))\n",
    "    new_madelon.to_hdf(out+'results.hdf','madelon_rf_dim{}'.format(str(dim)),complib='blosc',complevel=9)\n",
    "\n",
    "dimensions = range(2,28)\n",
    "for dim in dimensions: \n",
    "    clf = RandomForestClassifier(n_estimators=100,class_weight='balanced',random_state=5)\n",
    "    clf = clf.fit(cancerX, cancerY)\n",
    "    model = SelectFromModel(clf, prefit=True, max_features=dim)\n",
    "    cancerX_new = model.transform(cancerX)\n",
    "    new_cancer = pd.pandas.DataFrame(np.hstack((cancerX_new,cancerY.reshape(len(cancerX),1))))\n",
    "    new_cancer.to_hdf(out+'results.hdf','cancer_rf_dim{}'.format(str(dim)),complib='blosc',complevel=9)\n"
   ]
  },
  {
   "cell_type": "code",
   "execution_count": null,
   "metadata": {},
   "outputs": [],
   "source": []
  }
 ],
 "metadata": {
  "kernelspec": {
   "display_name": "Python 3",
   "language": "python",
   "name": "python3"
  },
  "language_info": {
   "codemirror_mode": {
    "name": "ipython",
    "version": 3
   },
   "file_extension": ".py",
   "mimetype": "text/x-python",
   "name": "python",
   "nbconvert_exporter": "python",
   "pygments_lexer": "ipython3",
   "version": "3.6.5"
  }
 },
 "nbformat": 4,
 "nbformat_minor": 2
}
