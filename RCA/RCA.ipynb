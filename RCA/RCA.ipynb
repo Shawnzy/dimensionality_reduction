{
 "cells": [
  {
   "cell_type": "code",
   "execution_count": 1,
   "metadata": {},
   "outputs": [],
   "source": [
    "# -*- coding: utf-8 -*-\n",
    "\"\"\"\n",
    "Created on Fri Nov 02 15:51:37 2018\n",
    "\n",
    "@author: Shawnzy\n",
    "\"\"\"\n",
    "import warnings\n",
    "warnings.filterwarnings('ignore')\n",
    "#%% Imports\n",
    "import pandas as pd\n",
    "import numpy as np\n",
    "from collections import defaultdict\n",
    "from sklearn.preprocessing import StandardScaler\n",
    "from sklearn.random_projection import GaussianRandomProjection\n",
    "\n",
    "out = './'\n",
    "\n",
    "#np.random.seed(0)\n",
    "cancer = pd.read_hdf('../Input_Data/datasets.hdf','cancer')\n",
    "cancerX = cancer.drop('diagnosis',1).copy().values\n",
    "cancerY = cancer['diagnosis'].copy().values\n",
    "\n",
    "madelon = pd.read_hdf('../Input_Data/datasets.hdf','madelon')        \n",
    "madelonX = madelon.drop('Class',1).copy().values\n",
    "madelonY = madelon['Class'].copy().values\n",
    "\n",
    "cancer_dims = range(2,31)\n",
    "madelon_dims = range(2,400,2)\n"
   ]
  },
  {
   "cell_type": "code",
   "execution_count": 2,
   "metadata": {},
   "outputs": [],
   "source": [
    "cancer_evals = defaultdict(lambda: defaultdict(dict))\n",
    "for dim in cancer_dims:\n",
    "    \"\"\"Apply the dimensionality reduction algorithms to the two datasets and\n",
    "    describe what you see.\"\"\"\n",
    "    # Apply RCA \n",
    "    cscaler = StandardScaler()\n",
    "    rca = GaussianRandomProjection(n_components=dim, random_state=5)\n",
    "    X = cscaler.fit_transform(cancerX)\n",
    "    X = rca.fit_transform(X)\n",
    "    new_cancer = pd.pandas.DataFrame(np.hstack((X,cancerY.reshape(len(X),1))))\n",
    "    new_cancer.to_hdf(out+'results.hdf','cancer_rca_dim{}'.format(str(dim)),complib='blosc',complevel=9)\n",
    "\n",
    "    # Describe RCA results\n",
    "    inv = np.linalg.pinv(rca.components_)\n",
    "    R = cscaler.inverse_transform(np.dot(X, inv.T))  # Reconstruction\n",
    "    cancer_evals['R_error'][dim] = sum(map(np.linalg.norm, R-cancerX))\n",
    "\n",
    "df_cancer = pd.DataFrame(cancer_evals)\n",
    "\n",
    "df_cancer.to_hdf(out+'results.hdf','cancer_RCA',complib='blosc',complevel=9)\n",
    "\n",
    "import matplotlib.pyplot as plt \n",
    "fig = plt.figure()\n",
    "ax = df_cancer.plot(y='R_error', title=\"Cancer - RCA - Reconstruction Error vs Dimensions\")\n",
    "ax.set(xlabel=\"Dimensions\", ylabel=\"R_error\")\n",
    "plt.savefig(out+'Plots/cancer_rca.png')"
   ]
  },
  {
   "cell_type": "code",
   "execution_count": 3,
   "metadata": {},
   "outputs": [
    {
     "data": {
      "text/plain": [
       "<Figure size 432x288 with 0 Axes>"
      ]
     },
     "metadata": {},
     "output_type": "display_data"
    },
    {
     "data": {
      "image/png": "[encoded data removed]",
      "text/plain": [
       "<Figure size 432x288 with 1 Axes>"
      ]
     },
     "metadata": {
      "needs_background": "light"
     },
     "output_type": "display_data"
    }
   ],
   "source": [
    "madelon_evals = defaultdict(lambda: defaultdict(dict))\n",
    "for dim in madelon_dims:\n",
    "    \"\"\"Apply the dimensionality reduction algorithms to the two datasets and\n",
    "    describe what you see.\"\"\"\n",
    "    # Apply RCA \n",
    "    mscaler = StandardScaler()\n",
    "    rca = GaussianRandomProjection(n_components=dim, random_state=5)\n",
    "    X = mscaler.fit_transform(madelonX)\n",
    "    X = rca.fit_transform(X)\n",
    "    new_madelon = pd.pandas.DataFrame(np.hstack((X,madelonY.reshape(len(X),1))))\n",
    "    new_madelon.to_hdf(out+'results.hdf','madelon_rca_dim{}'.format(str(dim)),complib='blosc',complevel=9)\n",
    "\n",
    "    # Describe RCA results\n",
    "    inv = np.linalg.pinv(rca.components_)\n",
    "    R = mscaler.inverse_transform(np.dot(X, inv.T))  # Reconstruction\n",
    "    madelon_evals['R_error'][dim] = sum(map(np.linalg.norm, R-madelonX))\n",
    "\n",
    "df_madelon = pd.DataFrame(madelon_evals)\n",
    "\n",
    "df_madelon.to_hdf(out+'results.hdf','madelon_RCA',complib='blosc',complevel=9)\n",
    "\n",
    "import matplotlib.pyplot as plt \n",
    "fig = plt.figure()\n",
    "ax = df_madelon.plot(y='R_error', title=\"Madelon - RCA - Reconstruction Error vs Dimensions\")\n",
    "ax.set(xlabel=\"Dimensions\", ylabel=\"R_error\")\n",
    "plt.savefig(out+'Plots/madelon_rca.png')"
   ]
  },
  {
   "cell_type": "code",
   "execution_count": null,
   "metadata": {},
   "outputs": [],
   "source": []
  }
 ],
 "metadata": {
  "kernelspec": {
   "display_name": "Python 3",
   "language": "python",
   "name": "python3"
  },
  "language_info": {
   "codemirror_mode": {
    "name": "ipython",
    "version": 3
   },
   "file_extension": ".py",
   "mimetype": "text/x-python",
   "name": "python",
   "nbconvert_exporter": "python",
   "pygments_lexer": "ipython3",
   "version": "3.6.5"
  }
 },
 "nbformat": 4,
 "nbformat_minor": 2
}
